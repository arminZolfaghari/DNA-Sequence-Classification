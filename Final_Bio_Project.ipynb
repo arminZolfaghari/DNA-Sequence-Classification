{
  "cells": [
    {
      "cell_type": "markdown",
      "metadata": {
        "id": "rwdOFa9i-3eD"
      },
      "source": [
        "#Step0: Import"
      ]
    },
    {
      "cell_type": "code",
      "execution_count": null,
      "metadata": {
        "id": "btFCZiuY-VdX"
      },
      "outputs": [],
      "source": [
        "from google.colab import drive\n",
        "import pandas as pd\n",
        "import numpy as np\n",
        "import tensorflow as tf\n",
        "from tensorflow import keras\n",
        "from keras.models import Sequential\n",
        "from keras import layers\n",
        "from gensim.models import Word2Vec\n",
        "import pickle"
      ]
    },
    {
      "cell_type": "code",
      "execution_count": null,
      "metadata": {
        "id": "xldrYUZtn-73"
      },
      "outputs": [],
      "source": [
        "base_path = '/content/gdrive/MyDrive/Colab Notebooks/Bioinformatics Course/'"
      ]
    },
    {
      "cell_type": "code",
      "execution_count": null,
      "metadata": {
        "id": "lT0wW3qas3pU"
      },
      "outputs": [],
      "source": [
        "KMER_SIZE = 6"
      ]
    },
    {
      "cell_type": "markdown",
      "metadata": {
        "id": "Dim1XSga--xC"
      },
      "source": [
        "#Step1: Getting the data"
      ]
    },
    {
      "cell_type": "code",
      "execution_count": null,
      "metadata": {
        "colab": {
          "base_uri": "https://localhost:8080/"
        },
        "id": "k_-APa-_-_E9",
        "outputId": "98fc7bc6-12f8-455a-c1ce-35dd89ecdae2"
      },
      "outputs": [
        {
          "output_type": "stream",
          "name": "stdout",
          "text": [
            "Drive already mounted at /content/gdrive; to attempt to forcibly remount, call drive.mount(\"/content/gdrive\", force_remount=True).\n"
          ]
        }
      ],
      "source": [
        "drive.mount('/content/gdrive')\n",
        "training_set = pd.read_csv('/content/gdrive/MyDrive/Colab Notebooks/Bioinformatics Course/training_set.csv')\n",
        "development_set = pd.read_csv('/content/gdrive/MyDrive/Colab Notebooks/Bioinformatics Course/development_set.csv')\n",
        "test_set = pd.read_csv('/content/gdrive/MyDrive/Colab Notebooks/Bioinformatics Course/test_set.csv')"
      ]
    },
    {
      "cell_type": "markdown",
      "source": [
        "<div dir=\"rtl\" >\n",
        "  <font color=\"yellow\" size=4.5>\n",
        "  تعداد داده هر دیتاست \n",
        "  </font>\n",
        "</div>"
      ],
      "metadata": {
        "id": "Sik3uYVZ8cbZ"
      }
    },
    {
      "cell_type": "code",
      "execution_count": null,
      "metadata": {
        "colab": {
          "base_uri": "https://localhost:8080/"
        },
        "id": "c20qt9HaD3vD",
        "outputId": "4bf72507-4fdf-4293-d1bf-3c504d98813b"
      },
      "outputs": [
        {
          "output_type": "stream",
          "name": "stdout",
          "text": [
            "(1320, 2)\n",
            "(180, 2)\n",
            "(400, 1)\n"
          ]
        }
      ],
      "source": [
        "print(training_set.shape)\n",
        "print(development_set.shape)\n",
        "print(test_set.shape)"
      ]
    },
    {
      "cell_type": "markdown",
      "source": [
        "#Step2: Preprocessing "
      ],
      "metadata": {
        "id": "TVNW3dLL9oVV"
      }
    },
    {
      "cell_type": "markdown",
      "source": [
        "<div dir=\"rtl\" >\n",
        "  <font color=\"yellow\" size=4.5>\n",
        "  تابع زیر رشته را به عنوان ورودی می‌گیرید (همراه با سایز k) و خروجی آرایه ای که شامل kmers ها هستند را برمی‌گرداند.\n",
        "  </font>\n",
        "</div>"
      ],
      "metadata": {
        "id": "DrXEp1DS9Kgm"
      }
    },
    {
      "cell_type": "code",
      "execution_count": null,
      "metadata": {
        "id": "PodmWg82aUwJ"
      },
      "outputs": [],
      "source": [
        "def build_kmers(sequence, ksize=KMER_SIZE):\n",
        "    kmers = []\n",
        "    n_kmers = len(sequence) - ksize + 1\n",
        "\n",
        "    for i in range(n_kmers):\n",
        "        kmer = sequence[i:i + ksize]\n",
        "        kmers.append(kmer)\n",
        "\n",
        "    return kmers"
      ]
    },
    {
      "cell_type": "markdown",
      "source": [
        "<div dir=\"rtl\" >\n",
        "  <font color=\"yellow\" size=4.5>\n",
        "در قسمت زیر دیکشنری از kmer های هر رشته و لیبل آن رشته برای دیتاست training می‌سازیم\n",
        "  </font>\n",
        "</div>"
      ],
      "metadata": {
        "id": "EsnQvXtO-Rnj"
      }
    },
    {
      "cell_type": "code",
      "execution_count": null,
      "metadata": {
        "id": "9eECGLz6q0jj"
      },
      "outputs": [],
      "source": [
        "kmer_label_training_dict = {\"kmer\": [], \"label\": []}\n",
        "for index, row in training_set.iterrows():\n",
        "  seq = row['Sequence']\n",
        "  label = row['Type']\n",
        "  kmer = build_kmers(seq)\n",
        "  kmer_label_training_dict['kmer'].append(kmer)\n",
        "  kmer_label_training_dict['label'].append(label)"
      ]
    },
    {
      "cell_type": "markdown",
      "source": [
        "<div dir=\"rtl\" >\n",
        "  <font color=\"yellow\" size=4.5>\n",
        "در قسمت زیر دیکشنری از kmer های هر رشته و لیبل آن رشته برای دیتاست develop می‌سازیم\n",
        "  </font>\n",
        "</div>"
      ],
      "metadata": {
        "id": "AUkvrXKO-vEt"
      }
    },
    {
      "cell_type": "code",
      "execution_count": null,
      "metadata": {
        "id": "bIRInkrcroiJ"
      },
      "outputs": [],
      "source": [
        "kmer_label_develop_dict = {\"kmer\": [], \"label\": []}\n",
        "for index, row in development_set.iterrows():\n",
        "  seq = row['Sequence']\n",
        "  label = row['Type']\n",
        "  kmer = build_kmers(seq)\n",
        "  kmer_label_develop_dict['kmer'].append(kmer)\n",
        "  kmer_label_develop_dict['label'].append(label)"
      ]
    },
    {
      "cell_type": "markdown",
      "source": [
        "<div dir=\"rtl\" >\n",
        "  <font color=\"yellow\" size=4.5>\n",
        "در قسمت زیر دیکشنری از kmer های هر رشته برای دیتاست test می‌سازیم\n",
        "  </font>\n",
        "</div>"
      ],
      "metadata": {
        "id": "AfNUN8n5-5W4"
      }
    },
    {
      "cell_type": "code",
      "source": [
        "kmer_test_dict = {\"kmer\": []}\n",
        "for index, row in test_set.iterrows():\n",
        "  seq = row['Sequence']\n",
        "  kmer = build_kmers(seq)\n",
        "  kmer_test_dict['kmer'].append(kmer)"
      ],
      "metadata": {
        "id": "Thpx7Sdo-IQ7"
      },
      "execution_count": null,
      "outputs": []
    },
    {
      "cell_type": "code",
      "source": [
        "X_train, Y_train = kmer_label_training_dict['kmer'], kmer_label_training_dict['label']\n",
        "X_develop, Y_develop = kmer_label_develop_dict['kmer'],kmer_label_develop_dict['label']\n",
        "X_test = kmer_test_dict['kmer']"
      ],
      "metadata": {
        "id": "4AcIWLTl_H0u"
      },
      "execution_count": null,
      "outputs": []
    },
    {
      "cell_type": "markdown",
      "source": [
        "<div dir=\"rtl\" >\n",
        "  <font color=\"yellow\" size=4.5>\n",
        "لیبل هایمان که همان شماره کلاس هستند، قسمت کلاس را از آنها حذف میکنیم و از 1 تا 6 به 0 تا 5 منتقل میکنیم\n",
        "  </font>\n",
        "</div>"
      ],
      "metadata": {
        "id": "aiCJoXozGs3y"
      }
    },
    {
      "cell_type": "code",
      "source": [
        "train_labels = []\n",
        "for label in Y_train:\n",
        "  train_labels.append(int(label[5]) - 1)"
      ],
      "metadata": {
        "id": "vVhFJQULGmqd"
      },
      "execution_count": null,
      "outputs": []
    },
    {
      "cell_type": "code",
      "source": [
        "develop_labels = []\n",
        "for label in Y_develop:\n",
        "  develop_labels.append(int(label[5]) - 1)"
      ],
      "metadata": {
        "id": "v-6PZ4xFHAuQ"
      },
      "execution_count": null,
      "outputs": []
    },
    {
      "cell_type": "code",
      "source": [
        "print(len(train_labels))\n",
        "print(len(develop_labels))"
      ],
      "metadata": {
        "colab": {
          "base_uri": "https://localhost:8080/"
        },
        "id": "YbeEsXttVBNX",
        "outputId": "dff38ba0-f29e-43d8-de47-4a392260af6f"
      },
      "execution_count": null,
      "outputs": [
        {
          "output_type": "stream",
          "name": "stdout",
          "text": [
            "1320\n",
            "180\n"
          ]
        }
      ]
    },
    {
      "cell_type": "markdown",
      "source": [
        "<div dir=\"rtl\" >\n",
        "  <font color=\"yellow\" size=4.5>\n",
        "مدل word to vector\n",
        "  </font>\n",
        "</div>"
      ],
      "metadata": {
        "id": "fX3dwLooBrzc"
      }
    },
    {
      "cell_type": "code",
      "source": [
        "w2v_model = Word2Vec(X_train, min_count=1, window=5, size=100, workers=2)"
      ],
      "metadata": {
        "id": "sWRTjPBABZ5S"
      },
      "execution_count": null,
      "outputs": []
    },
    {
      "cell_type": "markdown",
      "source": [
        "<div dir=\"rtl\" >\n",
        "  <font color=\"yellow\" size=4.5>\n",
        "بردار مربوط به TACCAC را مشاهده می‌کنید\n",
        "  </font>\n",
        "</div>"
      ],
      "metadata": {
        "id": "4k60DrmdDawf"
      }
    },
    {
      "cell_type": "code",
      "source": [
        "sample_seq = X_train[0]\n",
        "sample_seq_kmer = sample_seq[0]\n",
        "print(f'sample kmer: {sample_seq_kmer}')\n",
        "print(f'Sample kmer w2v: {w2v_model.wv[sample_seq_kmer]}')"
      ],
      "metadata": {
        "colab": {
          "base_uri": "https://localhost:8080/"
        },
        "id": "P2xNPuFlB2Iq",
        "outputId": "ecef50f0-0100-48e9-e357-a55b70f0d053"
      },
      "execution_count": null,
      "outputs": [
        {
          "output_type": "stream",
          "name": "stdout",
          "text": [
            "sample kmer: TACCAC\n",
            "Sample kmer w2v: [ 5.1599485e-01 -1.3614917e+00 -2.5137069e+00  2.8759272e+00\n",
            " -2.9731245e+00  1.0125425e+00  1.8879658e+00 -2.6912949e+00\n",
            "  2.6431346e-01  1.2701818e+00 -4.8164029e+00 -1.7164217e+00\n",
            " -1.0497183e+00 -9.0810478e-01 -4.0334481e-01  2.0055683e+00\n",
            "  1.6849827e+00 -3.8675990e+00  4.5742302e+00 -1.6496680e+00\n",
            "  2.0198862e-01  1.8451649e+00 -6.3169706e-01  1.4565941e+00\n",
            "  1.0978358e+00 -2.6513109e+00  1.7381676e+00 -2.3525589e+00\n",
            "  3.7699294e+00 -1.4200971e+00  2.5649369e+00 -2.5167935e+00\n",
            " -2.1253190e+00  2.7088518e+00 -3.0681753e+00  1.7813683e+00\n",
            " -2.5602813e+00 -2.1462939e+00  6.2966142e+00 -4.1152456e-01\n",
            " -3.6921275e+00  5.2292066e+00  1.3471276e+00 -1.5122943e+00\n",
            " -1.1167527e+00 -3.7736675e-01 -3.8644547e+00  9.6770442e-01\n",
            "  8.4013861e-01  4.1194940e+00 -3.6208923e+00 -2.3320251e+00\n",
            " -1.6333948e-01  3.3926473e+00 -4.3795338e+00 -5.5680981e+00\n",
            " -1.4624577e+00  6.2226816e-03 -1.8758857e+00 -7.9645365e-01\n",
            " -1.5029290e+00  1.9100444e-01 -1.0418806e+00 -3.4585018e+00\n",
            " -9.8478299e-01 -1.9701977e+00 -2.6912119e+00 -5.6635255e-01\n",
            "  1.0629574e+00  1.7007059e+00  4.9966779e+00  2.5639656e+00\n",
            " -4.6436930e+00  1.9620725e+00 -3.0520325e+00  9.1906691e+00\n",
            " -3.1191185e+00  1.1466638e+00  1.7766528e+00  8.0212078e-04\n",
            " -1.8806050e+00 -3.3887289e+00 -3.0969682e-01 -4.5685043e+00\n",
            " -9.0300307e-02 -1.1644771e+00  3.5593622e+00 -1.2129760e+00\n",
            "  4.1191325e+00  1.2063168e+00  2.1581225e+00 -3.4507463e+00\n",
            " -1.2499771e+00 -3.3049617e+00  2.9123142e+00 -5.6362820e+00\n",
            "  1.3004870e+00 -5.5917640e+00 -1.5704739e+00 -3.8551152e-01]\n"
          ]
        }
      ]
    },
    {
      "cell_type": "markdown",
      "source": [
        "<div dir=\"rtl\" >\n",
        "  <font color=\"yellow\" size=4.5>\n",
        "حال می‌خواهیم هر رشته seq را به برداری به طول 100 که طول word to vector مان \n",
        "بود، تبدیل کنیم\n",
        "در آخر هم  بردار را نرمال میکنیم.\n",
        "در آخر هم آرایه را برمیگردانیم. (در ابتدا یک خانه اضافه کرده بودیم و در انتها آن خانه را در نظر نمیگیریم)\n",
        "  </font>\n",
        "</div>"
      ],
      "metadata": {
        "id": "IBU_JuzHDwB2"
      }
    },
    {
      "cell_type": "code",
      "source": [
        "def create_seqs_embedding(w2v_model, seqs):\n",
        "  seqs_embedding = np.array([np.zeros(100)])\n",
        "  for seq in seqs: \n",
        "    vector = np.zeros(100)\n",
        "    for word in seq: \n",
        "      vector += w2v_model.wv[word]\n",
        "    number_of_word_in_seq = len(seq)\n",
        "    normalized_vector = vector / number_of_word_in_seq\n",
        "    seqs_embedding = np.append(seqs_embedding, [normalized_vector], axis=0)\n",
        "  \n",
        "  return seqs_embedding[1: ]"
      ],
      "metadata": {
        "id": "5x_QtB-dDnSc"
      },
      "execution_count": null,
      "outputs": []
    },
    {
      "cell_type": "code",
      "source": [
        "X_train_embedding = create_seqs_embedding(w2v_model, X_train)"
      ],
      "metadata": {
        "id": "_u27MOHxEHwg"
      },
      "execution_count": null,
      "outputs": []
    },
    {
      "cell_type": "code",
      "source": [
        "X_develop_embedding = create_seqs_embedding(w2v_model, X_develop)"
      ],
      "metadata": {
        "id": "cLFc3WY2ESCL"
      },
      "execution_count": null,
      "outputs": []
    },
    {
      "cell_type": "code",
      "source": [
        "X_test_embedding = create_seqs_embedding(w2v_model, X_test)"
      ],
      "metadata": {
        "id": "oJpPnmjpEXRx"
      },
      "execution_count": null,
      "outputs": []
    },
    {
      "cell_type": "markdown",
      "source": [
        "<div dir=\"rtl\" >\n",
        "  <font color=\"yellow\" size=4.5>\n",
        "ابعاد هر کدام را مشاهده می‌کنید\n",
        "  </font>\n",
        "</div>"
      ],
      "metadata": {
        "id": "N7vggY0vFBSn"
      }
    },
    {
      "cell_type": "code",
      "source": [
        "print(X_train_embedding.shape)\n",
        "print(X_develop_embedding.shape)\n",
        "print(X_test_embedding.shape)"
      ],
      "metadata": {
        "colab": {
          "base_uri": "https://localhost:8080/"
        },
        "id": "TgF8P-uUE3hB",
        "outputId": "461e35a5-eec2-45c6-9126-ca3f0fe24d9e"
      },
      "execution_count": null,
      "outputs": [
        {
          "output_type": "stream",
          "name": "stdout",
          "text": [
            "(1320, 100)\n",
            "(180, 100)\n",
            "(400, 100)\n"
          ]
        }
      ]
    },
    {
      "cell_type": "markdown",
      "source": [
        "#Step3: Build Model"
      ],
      "metadata": {
        "id": "-aWktpxLFPPz"
      }
    },
    {
      "cell_type": "markdown",
      "source": [
        "<div dir=\"rtl\" >\n",
        "  <font color=\"yellow\" size=4.5>\n",
        "در زیر لایه های شبکه عصبی را مشاهده می‌کنید، برای جلوگیری از overfitting از dropout با ضریب 0.2 استفاده شده است.\n",
        "  </font>\n",
        "</div>"
      ],
      "metadata": {
        "id": "kZSinahiJq6p"
      }
    },
    {
      "cell_type": "code",
      "source": [
        "model = keras.Sequential([\n",
        "                             \n",
        "                             keras.layers.Dense(units=100, activation='relu', input_shape=(100,)),\n",
        "                             keras.layers.Dense(units=50, activation='relu'),\n",
        "                             keras.layers.Dropout(rate=0.2),\n",
        "                             keras.layers.Dense(units=20, activation='relu'),\n",
        "                             keras.layers.Dense(units=6, activation='softmax')\n",
        "])"
      ],
      "metadata": {
        "id": "hFi66fd5FUZv"
      },
      "execution_count": null,
      "outputs": []
    },
    {
      "cell_type": "code",
      "source": [
        "model.compile(optimizer='adam', \n",
        "              loss=tf.losses.categorical_crossentropy,\n",
        "              metrics=['accuracy'])"
      ],
      "metadata": {
        "id": "1OkjVR_gGZk4"
      },
      "execution_count": null,
      "outputs": []
    },
    {
      "cell_type": "code",
      "source": [
        "train_labels = keras.utils.to_categorical(train_labels)\n",
        "train_labels.shape"
      ],
      "metadata": {
        "colab": {
          "base_uri": "https://localhost:8080/"
        },
        "id": "k_IYSi-GHIcM",
        "outputId": "9a3ab039-c5d1-4cff-b04d-98bc10a939c2"
      },
      "execution_count": null,
      "outputs": [
        {
          "output_type": "execute_result",
          "data": {
            "text/plain": [
              "(1320, 6)"
            ]
          },
          "metadata": {},
          "execution_count": 189
        }
      ]
    },
    {
      "cell_type": "code",
      "source": [
        "develop_labels = keras.utils.to_categorical(develop_labels)\n",
        "develop_labels.shape"
      ],
      "metadata": {
        "colab": {
          "base_uri": "https://localhost:8080/"
        },
        "id": "A93fHo95IYn_",
        "outputId": "fdc767bc-9026-4296-894b-89e0dc2d5232"
      },
      "execution_count": null,
      "outputs": [
        {
          "output_type": "execute_result",
          "data": {
            "text/plain": [
              "(180, 6)"
            ]
          },
          "metadata": {},
          "execution_count": 195
        }
      ]
    },
    {
      "cell_type": "code",
      "source": [
        "history = model.fit(\n",
        "    X_train_embedding,\n",
        "    train_labels,\n",
        "    epochs=10\n",
        ")"
      ],
      "metadata": {
        "colab": {
          "base_uri": "https://localhost:8080/"
        },
        "id": "Pj7lMvmBIjn1",
        "outputId": "636b487b-34bf-4af7-b3e9-cfc9f59a323c"
      },
      "execution_count": null,
      "outputs": [
        {
          "output_type": "stream",
          "name": "stdout",
          "text": [
            "Epoch 1/10\n",
            "42/42 [==============================] - 1s 3ms/step - loss: 1.4103 - accuracy: 0.5644\n",
            "Epoch 2/10\n",
            "42/42 [==============================] - 0s 3ms/step - loss: 0.5503 - accuracy: 0.9061\n",
            "Epoch 3/10\n",
            "42/42 [==============================] - 0s 3ms/step - loss: 0.1606 - accuracy: 0.9826\n",
            "Epoch 4/10\n",
            "42/42 [==============================] - 0s 3ms/step - loss: 0.0624 - accuracy: 0.9985\n",
            "Epoch 5/10\n",
            "42/42 [==============================] - 0s 3ms/step - loss: 0.0285 - accuracy: 0.9992\n",
            "Epoch 6/10\n",
            "42/42 [==============================] - 0s 3ms/step - loss: 0.0188 - accuracy: 0.9992\n",
            "Epoch 7/10\n",
            "42/42 [==============================] - 0s 3ms/step - loss: 0.0117 - accuracy: 1.0000\n",
            "Epoch 8/10\n",
            "42/42 [==============================] - 0s 3ms/step - loss: 0.0104 - accuracy: 1.0000\n",
            "Epoch 9/10\n",
            "42/42 [==============================] - 0s 3ms/step - loss: 0.0061 - accuracy: 1.0000\n",
            "Epoch 10/10\n",
            "42/42 [==============================] - 0s 3ms/step - loss: 0.0105 - accuracy: 0.9985\n"
          ]
        }
      ]
    },
    {
      "cell_type": "markdown",
      "source": [
        "<div dir=\"rtl\" >\n",
        "  <font color=\"yellow\" size=4.5>\n",
        "  حال مدل آمورش دیده شده را روی development تست میکنیم تا مدل را ارزیابی کنیم.\n",
        "  </font>\n",
        "</div>"
      ],
      "metadata": {
        "id": "COvdZIVQI7cm"
      }
    },
    {
      "cell_type": "markdown",
      "source": [
        "#Step4: check model on development set"
      ],
      "metadata": {
        "id": "ittWO-shKIM9"
      }
    },
    {
      "cell_type": "markdown",
      "source": [
        "<div dir=\"rtl\" >\n",
        "  <font color=\"yellow\" size=4.5>\n",
        "صحت را بر دیتاست development بررسی میکنیم که برابر 1 است\n",
        "  </font>\n",
        "</div>"
      ],
      "metadata": {
        "id": "xWtV4xt_K-6N"
      }
    },
    {
      "cell_type": "code",
      "source": [
        "development_loss, development_acc = model.evaluate(X_develop_embedding,  develop_labels)\n",
        "print('development accuracy:', development_acc)\n"
      ],
      "metadata": {
        "colab": {
          "base_uri": "https://localhost:8080/"
        },
        "id": "EYAH3pMLKQOE",
        "outputId": "b9c385eb-07b9-430e-ab6c-c25315769539"
      },
      "execution_count": null,
      "outputs": [
        {
          "output_type": "stream",
          "name": "stdout",
          "text": [
            "6/6 [==============================] - 0s 3ms/step - loss: 0.0013 - accuracy: 1.0000\n",
            "development accuracy: 1.0\n"
          ]
        }
      ]
    },
    {
      "cell_type": "markdown",
      "source": [
        "#Step5: Prediction on test set"
      ],
      "metadata": {
        "id": "M0ZNY99xLMGn"
      }
    },
    {
      "cell_type": "code",
      "source": [
        "model_predicted = model.predict(X_test_embedding)"
      ],
      "metadata": {
        "id": "5GaIg77yLSgY"
      },
      "execution_count": null,
      "outputs": []
    },
    {
      "cell_type": "code",
      "source": [
        "predict = []\n",
        "for i in range(len(model_predicted)):\n",
        "  predict.append(np.argmax(model_predicted[i]))\n"
      ],
      "metadata": {
        "id": "yPYYhE1WLa6n"
      },
      "execution_count": null,
      "outputs": []
    },
    {
      "cell_type": "code",
      "source": [
        "print(predict)"
      ],
      "metadata": {
        "id": "T9OFQnSNLrZM",
        "colab": {
          "base_uri": "https://localhost:8080/"
        },
        "outputId": "33b6a937-7011-4844-8fa5-ac9aa539eb87"
      },
      "execution_count": null,
      "outputs": [
        {
          "output_type": "stream",
          "name": "stdout",
          "text": [
            "[4, 4, 2, 0, 5, 0, 5, 2, 3, 0, 3, 2, 1, 3, 3, 2, 5, 2, 2, 2, 3, 0, 4, 5, 0, 4, 2, 2, 2, 2, 0, 2, 5, 0, 5, 0, 2, 4, 4, 5, 4, 3, 4, 4, 2, 5, 3, 4, 0, 1, 3, 2, 3, 2, 2, 5, 0, 5, 4, 2, 0, 2, 2, 2, 2, 5, 3, 4, 5, 5, 5, 2, 1, 5, 0, 0, 3, 5, 5, 1, 4, 3, 0, 0, 2, 4, 5, 3, 2, 4, 2, 0, 0, 5, 4, 2, 4, 0, 3, 0, 2, 2, 1, 0, 2, 3, 2, 2, 2, 2, 2, 0, 3, 0, 3, 3, 2, 2, 2, 3, 5, 0, 5, 3, 4, 2, 5, 1, 0, 2, 2, 5, 4, 1, 1, 2, 1, 0, 2, 2, 4, 0, 5, 0, 1, 1, 0, 2, 0, 0, 5, 5, 1, 5, 2, 4, 4, 2, 5, 2, 0, 1, 3, 3, 2, 2, 4, 3, 0, 0, 1, 2, 5, 0, 2, 1, 5, 3, 4, 5, 4, 5, 4, 4, 5, 2, 2, 2, 5, 3, 5, 2, 2, 5, 5, 5, 0, 0, 4, 0, 0, 2, 2, 0, 0, 0, 4, 2, 1, 1, 0, 0, 0, 0, 2, 5, 2, 2, 3, 4, 5, 3, 0, 3, 2, 3, 5, 4, 3, 5, 4, 4, 5, 5, 3, 4, 2, 5, 5, 2, 0, 0, 3, 3, 3, 4, 0, 1, 5, 0, 5, 2, 1, 1, 0, 1, 2, 5, 5, 4, 0, 2, 5, 0, 2, 2, 0, 0, 4, 3, 0, 2, 0, 1, 0, 0, 2, 2, 2, 5, 0, 5, 3, 0, 2, 3, 2, 2, 3, 2, 0, 2, 5, 5, 1, 0, 5, 1, 0, 5, 5, 0, 3, 0, 5, 4, 5, 2, 3, 1, 3, 2, 0, 5, 4, 4, 1, 2, 4, 3, 4, 0, 2, 2, 3, 0, 0, 0, 0, 1, 0, 4, 1, 2, 2, 3, 1, 4, 0, 4, 3, 0, 0, 2, 2, 1, 4, 3, 3, 2, 1, 4, 0, 1, 0, 1, 0, 1, 1, 2, 4, 5, 0, 5, 2, 0, 5, 3, 0, 0, 0, 1, 2, 4, 5, 2, 0, 0, 3, 1, 0, 5, 2, 5, 2, 3, 1, 5, 5, 2, 2, 1, 1, 5, 2, 0, 2, 1, 4, 0]\n"
          ]
        }
      ]
    }
  ],
  "metadata": {
    "colab": {
      "collapsed_sections": [
        "rwdOFa9i-3eD"
      ],
      "name": "Final_Bio_Project.ipynb",
      "provenance": [],
      "toc_visible": true,
      "authorship_tag": "ABX9TyPmNalL8LbnCfegiatNRdZT"
    },
    "kernelspec": {
      "display_name": "Python 3",
      "name": "python3"
    },
    "language_info": {
      "name": "python"
    },
    "accelerator": "GPU",
    "gpuClass": "standard"
  },
  "nbformat": 4,
  "nbformat_minor": 0
}